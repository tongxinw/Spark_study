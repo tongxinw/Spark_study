{
 "cells": [
  {
   "cell_type": "markdown",
   "metadata": {},
   "source": [
    "# Lesson 4#"
   ]
  },
  {
   "cell_type": "markdown",
   "metadata": {},
   "source": [
    "## Lesson Overview##\n",
    "- work with distributed data\n",
    "- Spark WebUI for debugging\n",
    "- Optimize code for efficiency\n",
    "- Common Spark Issues/errors"
   ]
  },
  {
   "cell_type": "markdown",
   "metadata": {},
   "source": [
    "## I. Spark Cluster Managers##\n",
    "1. Standalone Mode (Note: AWS does not provide standalone mode)\n",
    "2. Mesos (Team)\n",
    "3. Yarn (Team)"
   ]
  },
  {
   "cell_type": "markdown",
   "metadata": {},
   "source": [
    "### Using notebooks on clusters###\n",
    "Use EMR to create notebooks\n"
   ]
  },
  {
   "cell_type": "markdown",
   "metadata": {},
   "source": [
    "Add SSH to your AWS EMR\n",
    "NOTE: I am not from CS major, so a lot of this AWS is still new for me. When I tried to create SSH for my EMR cluster, I encountered an error.\n",
    "```\n",
    "operation timed out\n",
    "```\n",
    "My guess: this is because the security group seeting for the master node. Thus we need to go to the security setting for the master node, and add SSH inbound rule to it, make sure you select your IP address as the resource type. Then it should work for u. Mine works in this way.\n",
    "\n",
    "I found [this link](https://docs.aws.amazon.com/emr/latest/ManagementGuide/emr-gs-ssh.html) useful and it solved my problem."
   ]
  },
  {
   "cell_type": "markdown",
   "metadata": {},
   "source": [
    "```\n",
    "ctrl+D for log out\n",
    "```"
   ]
  },
  {
   "cell_type": "markdown",
   "metadata": {},
   "source": [
    "## II. Store and Retrive data on the cloud##\n",
    "**S3 - Simple Stroage Services**"
   ]
  },
  {
   "cell_type": "markdown",
   "metadata": {},
   "source": [
    "## III. Common problems in dealing with Big data##\n",
    "### 1. Data Skew##\n",
    "\n",
    "Data are not balanced, which means the shuffle will be unbalanced as well. Thus, one machine might end up getting most of the jobs where others are free\n",
    "\n",
    "**Solution:** \n",
    "- change workload division\n",
    "- partition the data by userid/date\n"
   ]
  },
  {
   "cell_type": "markdown",
   "metadata": {},
   "source": [
    "### 2. Understanding Big O###"
   ]
  },
  {
   "cell_type": "code",
   "execution_count": null,
   "metadata": {},
   "outputs": [],
   "source": []
  }
 ],
 "metadata": {
  "kernelspec": {
   "display_name": "Python 3",
   "language": "python",
   "name": "python3"
  },
  "language_info": {
   "codemirror_mode": {
    "name": "ipython",
    "version": 3
   },
   "file_extension": ".py",
   "mimetype": "text/x-python",
   "name": "python",
   "nbconvert_exporter": "python",
   "pygments_lexer": "ipython3",
   "version": "3.7.3"
  }
 },
 "nbformat": 4,
 "nbformat_minor": 4
}
