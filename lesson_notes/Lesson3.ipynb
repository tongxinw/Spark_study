{
 "cells": [
  {
   "cell_type": "markdown",
   "metadata": {},
   "source": [
    "## Lesson 3"
   ]
  },
  {
   "cell_type": "markdown",
   "metadata": {},
   "source": [
    "### Lesson Overview\n",
    "- Wrangling data with Spark\n",
    "- Functional programming\n",
    "- Read in and write out data\n",
    "- Spark environment and Spark APIs\n",
    "- RDD API"
   ]
  },
  {
   "cell_type": "markdown",
   "metadata": {},
   "source": [
    "### I. Spark DAGs\n",
    "DAG means the spark will only start to work until you actually call the collect() function. \n",
    "\n",
    "Note that Spark also does not directly modify the file itself, instead, it creates a copy of it.\n",
    "\n",
    "```\n",
    "distributed_song_log.map(lambda song: song.lower()).collect()\n",
    "distributed_song_log.map(lambda x: x.lower()).collect()\n",
    "```"
   ]
  },
  {
   "cell_type": "markdown",
   "metadata": {},
   "source": [
    "### II. Load data into Spark\n",
    "\n",
    "**Data Formats**\n",
    "\n",
    "csv, json, html, xml\n",
    "\n",
    "**Distributed data store**\n",
    "\n",
    "HDFS, S3(AWS)\n",
    "\n",
    "**Imperative Programming & Declarative Programming**\n",
    "\n",
    "Imperative (python, spark): how, which is the steps\n",
    "\n",
    "Declarative (SQL): what, which is the result"
   ]
  },
  {
   "cell_type": "markdown",
   "metadata": {},
   "source": [
    "## III. Spark SQL\n",
    "[spark sql documentation](https://spark.apache.org/docs/latest/sql-getting-started.html)\n",
    "\n",
    "```\n",
    "# one line code to map\n",
    "spark.udf.register('f_name', lambda x: int(x))\n",
    "\n",
    "kk = spark.sql('''\n",
    "               SELECT *, f_name(ts) AS hour\n",
    "               FROM user_log_table \n",
    "               LIMIT 1\n",
    "               '''\n",
    "               )\n",
    "kk.collect()\n",
    "kk.show()\n",
    "\n",
    "```"
   ]
  },
  {
   "cell_type": "code",
   "execution_count": null,
   "metadata": {},
   "outputs": [],
   "source": []
  }
 ],
 "metadata": {
  "kernelspec": {
   "display_name": "Python 3",
   "language": "python",
   "name": "python3"
  },
  "language_info": {
   "codemirror_mode": {
    "name": "ipython",
    "version": 3
   },
   "file_extension": ".py",
   "mimetype": "text/x-python",
   "name": "python",
   "nbconvert_exporter": "python",
   "pygments_lexer": "ipython3",
   "version": "3.7.6"
  }
 },
 "nbformat": 4,
 "nbformat_minor": 4
}
